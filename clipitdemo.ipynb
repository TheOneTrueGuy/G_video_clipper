{
  "nbformat": 4,
  "nbformat_minor": 0,
  "metadata": {
    "colab": {
      "provenance": [],
      "machine_shape": "hm",
      "gpuType": "T4",
      "authorship_tag": "ABX9TyOn6VD+6wroprx7mSH69n3A",
      "include_colab_link": true
    },
    "kernelspec": {
      "name": "python3",
      "display_name": "Python 3"
    },
    "language_info": {
      "name": "python"
    },
    "accelerator": "GPU"
  },
  "cells": [
    {
      "cell_type": "markdown",
      "metadata": {
        "id": "view-in-github",
        "colab_type": "text"
      },
      "source": [
        "<a href=\"https://colab.research.google.com/github/TheOneTrueGuy/G_video_clipper/blob/main/clipitdemo.ipynb\" target=\"_parent\"><img src=\"https://colab.research.google.com/assets/colab-badge.svg\" alt=\"Open In Colab\"/></a>"
      ]
    },
    {
      "cell_type": "code",
      "execution_count": null,
      "metadata": {
        "id": "oaowELA--fj5"
      },
      "outputs": [],
      "source": [
        "! pip install -U -q openai-whisper git+https://github.com/linto-ai/whisper-timestamped\n",
        "! pip install -q moviepy\n",
        "# for pulpitdemo.py download\n",
        "from google.colab import drive\n",
        "drive.mount('/content/drive')\n",
        "!cp /content/drive/MyDrive/clipitdemo.py .\n",
        "import os\n",
        "from google.colab import files"
      ]
    },
    {
      "cell_type": "code",
      "source": [
        "! wget -O 2023-12-23-Evil-Companionship-Tom-Fannin.mp4 https://cbcgvideo.s3.amazonaws.com/2023-12-23-Evil-Companionship-Tom-Fannin.mp4\n",
        "file_name = '2023-12-23-Evil-Companionship-Tom-Fannin.mp4'"
      ],
      "metadata": {
        "id": "GYPVaYhrDTIE"
      },
      "execution_count": null,
      "outputs": []
    },
    {
      "cell_type": "code",
      "source": [
        "command = f\"python clipitdemo.py -v {file_name}\"\n",
        "print(command)\n",
        "os.system(command)\n",
        "filename, extension = os.path.splitext(file_name)\n",
        "\n",
        "# slower than using the Files column on the left\n",
        "#files.download(f\"{filename}.zip\")\n"
      ],
      "metadata": {
        "id": "W9SCrBfU_yv-"
      },
      "execution_count": null,
      "outputs": []
    },
    {
      "cell_type": "code",
      "source": [
        "os.system(f\"cp {filename}.zip /content/drive/MyDrive/\")"
      ],
      "metadata": {
        "id": "lHzAqUl0A3DW"
      },
      "execution_count": null,
      "outputs": []
    }
  ]
}